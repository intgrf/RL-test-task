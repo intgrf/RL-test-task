{
 "cells": [
  {
   "cell_type": "markdown",
   "metadata": {},
   "source": [
    "## RL test task: MountainCar-v0"
   ]
  },
  {
   "cell_type": "markdown",
   "metadata": {},
   "source": [
    "**DQN algorithm implementation**"
   ]
  },
  {
   "cell_type": "code",
   "execution_count": 1,
   "metadata": {},
   "outputs": [],
   "source": [
    "import torch\n",
    "from torch import nn, optim\n",
    "import copy\n",
    "import random\n",
    "import gym\n",
    "\n",
    "device = torch.device('cuda')"
   ]
  },
  {
   "cell_type": "code",
   "execution_count": 2,
   "metadata": {},
   "outputs": [],
   "source": [
    "# agent's replay memory\n",
    "class Memory:\n",
    "    def __init__(self, capacity):\n",
    "        self.capacity = capacity\n",
    "        self.memory = []\n",
    "        self.position = 0\n",
    "        \n",
    "    def append(self, elem):\n",
    "        if len(self.memory) < self.capacity:\n",
    "            self.memory.append(elem)\n",
    "        self.memory[self.position] = elem\n",
    "        self.position = (self.position + 1) % self.capacity\n",
    "            \n",
    "    def get_minibatch(self, size):\n",
    "        return random.sample(self.memory, size)\n",
    "    \n",
    "    \n",
    "    def __len__(self):\n",
    "        return len(self.memory)"
   ]
  },
  {
   "cell_type": "code",
   "execution_count": 3,
   "metadata": {},
   "outputs": [],
   "source": [
    "# epsilon-greedy strategy\n",
    "def select_action(epsilon, state, model):\n",
    "    if random.random() < epsilon:\n",
    "        return random.randint(0, 2)\n",
    "    return model(torch.tensor(state).to(device).float().unsqueeze(0))[0].max(0)[1].view(1, 1).item()"
   ]
  },
  {
   "cell_type": "code",
   "execution_count": 4,
   "metadata": {},
   "outputs": [],
   "source": [
    "def optimize(batch):\n",
    "    state, action, reward, next_state, is_terminal = batch\n",
    "    \n",
    "    state = torch.tensor(state).to(device).float()\n",
    "    action = torch.tensor(action).to(device)\n",
    "    reward = torch.tensor(reward).to(device).float()\n",
    "    next_state = torch.tensor(next_state).to(device).float()\n",
    "    \n",
    "    target_q = torch.zeros(reward.size()[0]).float().to(device)\n",
    "    with torch.no_grad():\n",
    "        target_q[is_terminal] = target_model(next_state).max(1)[0].detach()[is_terminal]\n",
    "    target_q = reward + target_q * GAMMA\n",
    "        \n",
    "    q = model(state).gather(1, action.unsqueeze(1))\n",
    "    \n",
    "    loss = nn.functional.smooth_l1_loss(q, target_q.unsqueeze(1))\n",
    "    \n",
    "    optimizer.zero_grad()\n",
    "    \n",
    "    loss.backward()\n",
    "    \n",
    "    for param in model.parameters():\n",
    "        param.grad.data.clamp_(-1, 1)\n",
    "        \n",
    "    optimizer.step()"
   ]
  },
  {
   "cell_type": "code",
   "execution_count": 5,
   "metadata": {},
   "outputs": [],
   "source": [
    "def exploit(model, render = True):\n",
    "    state = env.reset()\n",
    "    r = 0.\n",
    "    is_terminal = False\n",
    "    \n",
    "    while not is_terminal:\n",
    "        eps = 0.\n",
    "        if render:\n",
    "            env.render()\n",
    "        action = select_action(eps, state, model)\n",
    "        state, reward, is_terminal, _ = env.step(action)\n",
    "        r += reward\n",
    "    return r"
   ]
  },
  {
   "cell_type": "code",
   "execution_count": 6,
   "metadata": {},
   "outputs": [],
   "source": [
    "def train(model, target_model, optimizer):\n",
    "    reward_history = []\n",
    "    replay_memory = Memory(MEMORY_CAPACITY)\n",
    "    \n",
    "    state = env.reset()\n",
    "        \n",
    "    for step in range(1, MAX_STEP):\n",
    "        # select action\n",
    "        eps = MAX_EPS - (MAX_EPS - MIN_EPS) * step / MAX_STEP \n",
    "        action = select_action(eps, state, model)\n",
    "\n",
    "        # execute action in emulator\n",
    "        new_state, reward, is_terminal, _= env.step(action)\n",
    "\n",
    "        \n",
    "        # store info in replay memory\n",
    "        replay_memory.append((state, action, reward + 200 * (GAMMA * abs(new_state[1]) - abs(state[1])),\n",
    "                              new_state, is_terminal))\n",
    "\n",
    "        # update state\n",
    "        if is_terminal:\n",
    "            state = env.reset()\n",
    "            is_terminal = False\n",
    "        else:\n",
    "            state = new_state\n",
    "        \n",
    "        # make gradient descent step\n",
    "        # sample random minibatch from replay memory\n",
    "        if step > BATCH_SIZE:\n",
    "            optimize(list(zip(*replay_memory.get_minibatch(BATCH_SIZE))))\n",
    "            \n",
    "        # update target model \n",
    "        if step % UPDATE_STEP == 0:\n",
    "            target_model = copy.deepcopy(model)\n",
    "            r = exploit(target_model, True)\n",
    "            reward_history.append(r)\n",
    "            \n",
    "    return reward_history"
   ]
  },
  {
   "cell_type": "code",
   "execution_count": 7,
   "metadata": {},
   "outputs": [],
   "source": [
    "# define constants\n",
    "BATCH_SIZE = 128\n",
    "\n",
    "MAX_STEP = 70001\n",
    "UPDATE_STEP = 1000\n",
    "\n",
    "MAX_EPS = 0.5\n",
    "MIN_EPS = 0.1\n",
    "\n",
    "MEMORY_CAPACITY = 5000\n",
    "\n",
    "GAMMA = 0.99"
   ]
  },
  {
   "cell_type": "code",
   "execution_count": 8,
   "metadata": {},
   "outputs": [],
   "source": [
    "# create environment\n",
    "env = gym.make('MountainCar-v0')\n",
    "\n",
    "# create model + optimizer\n",
    "model = nn.Sequential(\n",
    "        nn.Linear(2, 32),\n",
    "        nn.ReLU(),\n",
    "        nn.Linear(32, 32),\n",
    "        nn.ReLU(),\n",
    "        nn.Linear(32, 3))\n",
    "\n",
    "target_model = copy.deepcopy(model)\n",
    "\n",
    "def init_model_weights(layer):\n",
    "    if type(layer) == nn.Linear:\n",
    "        nn.init.xavier_normal_(layer.weight)\n",
    "        \n",
    "model.apply(init_model_weights)\n",
    "\n",
    "model.to(device)\n",
    "target_model.to(device)\n",
    "\n",
    "optimizer = optim.Adam(model.parameters(), lr = 1e-5)"
   ]
  },
  {
   "cell_type": "code",
   "execution_count": 9,
   "metadata": {
    "scrolled": true
   },
   "outputs": [],
   "source": [
    "rewards = train(model, target_model, optimizer)"
   ]
  },
  {
   "cell_type": "code",
   "execution_count": 11,
   "metadata": {
    "scrolled": false
   },
   "outputs": [
    {
     "data": {
      "text/plain": [
       "[<matplotlib.lines.Line2D at 0x7fd2b09dbeb8>]"
      ]
     },
     "execution_count": 11,
     "metadata": {},
     "output_type": "execute_result"
    },
    {
     "data": {
      "image/png": "[encoded data removed]",
      "text/plain": [
       "<Figure size 432x288 with 1 Axes>"
      ]
     },
     "metadata": {
      "needs_background": "light"
     },
     "output_type": "display_data"
    }
   ],
   "source": [
    "import matplotlib.pyplot as plt\n",
    "\n",
    "plt.plot(rewards)"
   ]
  },
  {
   "cell_type": "code",
   "execution_count": null,
   "metadata": {},
   "outputs": [],
   "source": []
  }
 ],
 "metadata": {
  "kernelspec": {
   "display_name": "Python 3",
   "language": "python",
   "name": "python3"
  },
  "language_info": {
   "codemirror_mode": {
    "name": "ipython",
    "version": 3
   },
   "file_extension": ".py",
   "mimetype": "text/x-python",
   "name": "python",
   "nbconvert_exporter": "python",
   "pygments_lexer": "ipython3",
   "version": "3.6.8"
  }
 },
 "nbformat": 4,
 "nbformat_minor": 2
}
