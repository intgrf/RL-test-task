{
 "cells": [
  {
   "cell_type": "markdown",
   "metadata": {},
   "source": [
    "## Reinforcement learning test task"
   ]
  },
  {
   "cell_type": "markdown",
   "metadata": {},
   "source": [
    "Есть replay memory - память с эпизодами игры, вместимость N\n",
    "\n",
    "$Q(s, a, \\theta)$ инициализируем случайными весами $\\theta$\n",
    "\n",
    "По эпизодам от 1 до $M$:\n",
    "\n",
    "По шагам внути эпизода от 1 до T:\n",
    "\n",
    "с вероятностью $\\varepsilon$ делаем случайное действие $a_t$\n",
    "\n",
    "иначе берем $a_t = \\max_a Q^*(s_t, a, \\theta)$\n",
    "\n",
    "Запускаем действие в эмуляторе игры и получаем $(s_t, a_t, r_t, s_{t+1})$ -> сохраняем в replay memory\n",
    "\n",
    "\n",
    "Берем мини-батч из replay memory\n",
    "\n",
    "устанавливаем $y_j$\n",
    "\n",
    "Если состояние терминальное, то $y_j = r_j$ - реворд\n",
    "\n",
    "Иначе $y_j = r_j + \\gamma \\max_{a'} Q(s_{j+1}, a', \\theta)$ - вычисляем на основе прошлой версии \n",
    "\n",
    "Делаем шаг градиентного спуска, минимизируем $(y_j - Q(s_j, a_j, \\theta))^2$"
   ]
  },
  {
   "cell_type": "code",
   "execution_count": 1,
   "metadata": {},
   "outputs": [],
   "source": [
    "import torch\n",
    "from torch import nn, optim\n",
    "import copy\n",
    "import random\n",
    "import gym\n",
    "\n",
    "device = torch.device('cuda')"
   ]
  },
  {
   "cell_type": "code",
   "execution_count": 2,
   "metadata": {},
   "outputs": [],
   "source": [
    "class Memory:\n",
    "    def __init__(self, capacity):\n",
    "        self.capacity = capacity\n",
    "        self.memory = []\n",
    "        self.position = 0\n",
    "        \n",
    "    def append(self, elem):\n",
    "        if len(self.memory) < self.capacity:\n",
    "            self.memory.append(elem)\n",
    "        self.memory[self.position] = elem\n",
    "        self.position = (self.position + 1) % self.capacity\n",
    "            \n",
    "    def get_minibatch(self, size):\n",
    "        return random.sample(self.memory, size)\n",
    "    \n",
    "    def clear(self):\n",
    "        self.memory = []\n",
    "        self.position = 0\n",
    "    \n",
    "    def __len__(self):\n",
    "        return len(self.memory)"
   ]
  },
  {
   "cell_type": "code",
   "execution_count": 3,
   "metadata": {},
   "outputs": [],
   "source": [
    "# epsilon-greedy policy\n",
    "def select_action(epsilon, state, model):\n",
    "    if random.random() < epsilon:\n",
    "        return random.randint(0, 2)\n",
    "    return model(torch.tensor(state).to(device).float().unsqueeze(0))[0].max(0)[1].view(1, 1).item()"
   ]
  },
  {
   "cell_type": "code",
   "execution_count": 4,
   "metadata": {},
   "outputs": [],
   "source": [
    "# define constants\n",
    "\n",
    "batch_size = 128\n",
    "\n",
    "max_step = 100001\n",
    "update_step = 1000\n",
    "\n",
    "max_eps = 0.5\n",
    "min_eps = 0.1\n",
    "\n",
    "memory_capacity = 5000\n",
    "\n",
    "gamma = 0.99"
   ]
  },
  {
   "cell_type": "code",
   "execution_count": 5,
   "metadata": {},
   "outputs": [],
   "source": [
    "def gradient_descent_step(batch):\n",
    "    state, action, reward, next_state, is_terminal = batch\n",
    "    \n",
    "    state = torch.tensor(state).to(device).float()\n",
    "    action = torch.tensor(action).to(device)\n",
    "    reward = torch.tensor(reward).to(device).float()\n",
    "    next_state = torch.tensor(next_state).to(device).float()\n",
    "    \n",
    "    target_q = torch.zeros(reward.size()[0]).float().to(device)\n",
    "    with torch.no_grad():\n",
    "        target_q[is_terminal] = target_model(next_state).max(1)[0].detach()[is_terminal]\n",
    "    target_q = reward + target_q * gamma\n",
    "        \n",
    "    q = model(state).gather(1, action.unsqueeze(1))\n",
    "    \n",
    "    loss = nn.functional.smooth_l1_loss(q, target_q.unsqueeze(1))\n",
    "    \n",
    "    optimizer.zero_grad()\n",
    "    \n",
    "    loss.backward()\n",
    "    \n",
    "    for param in model.parameters():\n",
    "        param.grad.data.clamp_(-1, 1)\n",
    "        \n",
    "    optimizer.step()"
   ]
  },
  {
   "cell_type": "code",
   "execution_count": 6,
   "metadata": {},
   "outputs": [],
   "source": [
    "def exploit(model, render = True):\n",
    "    state = env.reset()\n",
    "    r = 0.\n",
    "    is_terminal = False\n",
    "    \n",
    "    while not is_terminal:\n",
    "        eps = 0.\n",
    "        if render:\n",
    "            env.render()\n",
    "        action = select_action(eps, state, model)\n",
    "        state, reward, is_terminal, _ = env.step(action)\n",
    "        r += reward\n",
    "    return r"
   ]
  },
  {
   "cell_type": "code",
   "execution_count": 7,
   "metadata": {},
   "outputs": [],
   "source": [
    "def train(model, target_model, optimizer):\n",
    "    reward_history = []\n",
    "    replay_memory = Memory(memory_capacity)\n",
    "    \n",
    "    state = env.reset()\n",
    "    \n",
    "    max_step = 100001\n",
    "    \n",
    "    for step in range(1, max_step):\n",
    "        # select action with probability eps\n",
    "        eps = max_eps - (max_eps - min_eps) * step / max_step \n",
    "        action = select_action(eps, state, model)\n",
    "\n",
    "        # execute action in emulator and update state + reward\n",
    "        new_state, reward, is_terminal, _= env.step(action)\n",
    "\n",
    "        \n",
    "        # store info in replay memory\n",
    "        \n",
    "        if is_terminal:\n",
    "            replay_memory.append((state, action, reward, \n",
    "                                  new_state, is_terminal))\n",
    "            state = env.reset()\n",
    "            is_terminal = False\n",
    "        else:\n",
    "            replay_memory.append((state, action, reward + 5 * abs(new_state[1]), \n",
    "                              new_state, is_terminal))\n",
    "            state = new_state\n",
    "        \n",
    "        # make stochastic gradient descent step\n",
    "        # sample random minibatch from replay memory\n",
    "        if step > batch_size:\n",
    "            gradient_descent_step(list(zip(*replay_memory.get_minibatch(batch_size))))\n",
    "            \n",
    "            \n",
    "        if step % update_step == 0:\n",
    "            target_model = copy.deepcopy(model)\n",
    "            r = exploit(target_model, True)\n",
    "            reward_history.append(r)\n",
    "            \n",
    "    return reward_history"
   ]
  },
  {
   "cell_type": "code",
   "execution_count": 8,
   "metadata": {},
   "outputs": [],
   "source": [
    "# create environment\n",
    "env = gym.make('MountainCar-v0')\n",
    "\n",
    "# create model + optimizer\n",
    "model = nn.Sequential(\n",
    "        nn.Linear(2, 32),\n",
    "        nn.ReLU(),\n",
    "        nn.Linear(32, 32),\n",
    "        nn.ReLU(),\n",
    "        nn.Linear(32, 3))\n",
    "\n",
    "target_model = copy.deepcopy(model)\n",
    "\n",
    "def init_model_weights(layer):\n",
    "    if type(layer) == nn.Linear:\n",
    "        nn.init.xavier_normal_(layer.weight)\n",
    "        \n",
    "model.apply(init_model_weights)\n",
    "\n",
    "model.to(device)\n",
    "target_model.to(device)\n",
    "\n",
    "optimizer = optim.Adam(model.parameters(), lr = 3e-5)"
   ]
  },
  {
   "cell_type": "code",
   "execution_count": 9,
   "metadata": {
    "scrolled": true
   },
   "outputs": [],
   "source": [
    "rewards = train(model, target_model, optimizer)"
   ]
  },
  {
   "cell_type": "code",
   "execution_count": 11,
   "metadata": {
    "scrolled": true
   },
   "outputs": [
    {
     "data": {
      "text/plain": [
       "[<matplotlib.lines.Line2D at 0x7f02b4c0bcf8>]"
      ]
     },
     "execution_count": 11,
     "metadata": {},
     "output_type": "execute_result"
    },
    {
     "data": {
      "image/png": "[encoded data removed]",
      "text/plain": [
       "<Figure size 432x288 with 1 Axes>"
      ]
     },
     "metadata": {
      "needs_background": "light"
     },
     "output_type": "display_data"
    }
   ],
   "source": [
    "import matplotlib.pyplot as plt\n",
    "\n",
    "plt.plot(rewards)"
   ]
  },
  {
   "cell_type": "code",
   "execution_count": null,
   "metadata": {},
   "outputs": [],
   "source": []
  }
 ],
 "metadata": {
  "kernelspec": {
   "display_name": "Python 3",
   "language": "python",
   "name": "python3"
  },
  "language_info": {
   "codemirror_mode": {
    "name": "ipython",
    "version": 3
   },
   "file_extension": ".py",
   "mimetype": "text/x-python",
   "name": "python",
   "nbconvert_exporter": "python",
   "pygments_lexer": "ipython3",
   "version": "3.6.8"
  }
 },
 "nbformat": 4,
 "nbformat_minor": 2
}
