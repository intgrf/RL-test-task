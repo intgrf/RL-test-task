{
 "cells": [
  {
   "cell_type": "markdown",
   "metadata": {},
   "source": [
    "## RL test task: MountainCarContinuous-v0"
   ]
  },
  {
   "cell_type": "markdown",
   "metadata": {},
   "source": [
    "**[DDPG](https://arxiv.org/pdf/1509.02971.pdf) algorithm implementation**"
   ]
  },
  {
   "cell_type": "code",
   "execution_count": 1,
   "metadata": {},
   "outputs": [],
   "source": [
    "import torch\n",
    "from torch import nn, optim\n",
    "import torch.nn.functional as F\n",
    "import numpy as np\n",
    "import copy\n",
    "import random\n",
    "import gym\n",
    "\n",
    "import matplotlib.pyplot as plt\n",
    "device = torch.device('cuda')"
   ]
  },
  {
   "cell_type": "code",
   "execution_count": 2,
   "metadata": {},
   "outputs": [],
   "source": [
    "# agent's replay memory\n",
    "class Memory:\n",
    "    def __init__(self, capacity):\n",
    "        self.capacity = capacity\n",
    "        self.memory = []\n",
    "        self.position = 0\n",
    "        \n",
    "    def append(self, elem):\n",
    "        if len(self.memory) < self.capacity:\n",
    "            self.memory.append(elem)\n",
    "        self.memory[self.position] = elem\n",
    "        self.position = (self.position + 1) % self.capacity\n",
    "            \n",
    "    def get_minibatch(self, size):\n",
    "        return random.sample(self.memory, size)\n",
    "    \n",
    "    \n",
    "    def __len__(self):\n",
    "        return len(self.memory)"
   ]
  },
  {
   "cell_type": "code",
   "execution_count": 3,
   "metadata": {},
   "outputs": [],
   "source": [
    "def exploit(model, render = True):\n",
    "    state = env.reset()\n",
    "    r = 0.\n",
    "    is_terminal = False\n",
    "    \n",
    "    while not is_terminal:\n",
    "        if render:\n",
    "            env.render()\n",
    "        action = model(torch.tensor(state).to(device).float().unsqueeze(0))[0].view(1, 1).item()\n",
    "        state, reward, is_terminal, _ = env.step([action])\n",
    "        r += reward\n",
    "    return r"
   ]
  },
  {
   "cell_type": "code",
   "execution_count": 4,
   "metadata": {
    "scrolled": true
   },
   "outputs": [],
   "source": [
    "class Actor(nn.Module):\n",
    "    def __init__(self, state_size, action_size, hidden_size):\n",
    "        super(Actor, self).__init__()\n",
    "        \n",
    "        self.linear1 = nn.Linear(state_size, hidden_size)\n",
    "        self.linear2 = nn.Linear(hidden_size, hidden_size)\n",
    "        self.linear3 = nn.Linear(hidden_size, action_size)\n",
    "        \n",
    "    def forward(self, state):\n",
    "        x = F.relu(self.linear1(state))\n",
    "        x = F.relu(self.linear2(x))\n",
    "        x = torch.tanh(self.linear3(x))\n",
    "        return x\n",
    "    \n",
    "    def select_action(self, state):\n",
    "        state  = torch.FloatTensor(state).unsqueeze(0).to(device)\n",
    "        action = self.forward(state)\n",
    "        return action.detach().item()"
   ]
  },
  {
   "cell_type": "code",
   "execution_count": 5,
   "metadata": {},
   "outputs": [],
   "source": [
    "class Critic(nn.Module):\n",
    "    def __init__(self, state_size, action_size, hidden_size):\n",
    "        super(Critic, self).__init__()\n",
    "        \n",
    "        self.linear1 = nn.Linear(state_size + action_size, hidden_size)\n",
    "        self.linear2 = nn.Linear(hidden_size, hidden_size)\n",
    "        self.linear3 = nn.Linear(hidden_size, 1)\n",
    "        \n",
    "    def forward(self, state, action):\n",
    "        x = torch.cat([state, action], 1)\n",
    "        x = F.relu(self.linear1(x))\n",
    "        x = F.relu(self.linear2(x))\n",
    "        x = self.linear3(x)\n",
    "        return x"
   ]
  },
  {
   "cell_type": "code",
   "execution_count": 6,
   "metadata": {},
   "outputs": [],
   "source": [
    "def add_noise(action):\n",
    "    action = np.clip(action + np.random.normal(0, 0.5, 1), -1, 1)\n",
    "    return action"
   ]
  },
  {
   "cell_type": "code",
   "execution_count": 7,
   "metadata": {},
   "outputs": [],
   "source": [
    "def optimize(batch):\n",
    "    state, action, reward, next_state = batch\n",
    "    \n",
    "    state = torch.tensor(state).to(device).float()\n",
    "    action = torch.tensor(action).to(device).float()\n",
    "    reward = torch.tensor(reward).unsqueeze(1).to(device).float()\n",
    "    next_state = torch.tensor(next_state).to(device).float()\n",
    "    \n",
    "    # critic loss\n",
    "    next_action = target_actor(next_state).detach()\n",
    "    target_q = target_critic(next_state, next_action)\n",
    "    target_q = reward + GAMMA * target_q\n",
    "    q = critic(state, action)\n",
    "    critic_loss = F.mse_loss(q, target_q.detach())\n",
    "\n",
    "    # actor loss\n",
    "    predicted_action = actor(state)\n",
    "    actor_loss = critic(state, predicted_action)\n",
    "    actor_loss = -actor_loss.mean()\n",
    "    \n",
    "    # optimize critic\n",
    "    critic_optimizer.zero_grad()\n",
    "    critic_loss.backward()\n",
    "    critic_optimizer.step()\n",
    "    \n",
    "    #optimize actor\n",
    "    actor_optimizer.zero_grad()\n",
    "    actor_loss.backward()\n",
    "    actor_optimizer.step()\n",
    "    \n",
    "    # update target models\n",
    "    for target_param, param in zip(target_critic.parameters(), critic.parameters()):\n",
    "        target_param.data.copy_(target_param.data * (1.0 - TAU) + param.data * TAU)\n",
    "        \n",
    "    for target_param, param in zip(target_actor.parameters(), actor.parameters()):\n",
    "        target_param.data.copy_(target_param.data * (1.0 - TAU) + param.data * TAU)"
   ]
  },
  {
   "cell_type": "code",
   "execution_count": 8,
   "metadata": {},
   "outputs": [],
   "source": [
    "def train(actor, target_actor, actor_optimizer,\n",
    "          critic, tatget_critic, critic_optimizer):\n",
    "    \n",
    "    reward_history = []\n",
    "    replay_memory = Memory(MEMORY_CAPACITY)\n",
    "    \n",
    "    state = env.reset()\n",
    "    \n",
    "    for step in range(1, MAX_STEP):\n",
    "        # select action\n",
    "        action = actor.select_action(state)\n",
    "        action = add_noise(action)\n",
    "        \n",
    "        # execute action\n",
    "        new_state, reward, is_terminal, _ = env.step(action)\n",
    "        \n",
    "        # store observation in replay memory\n",
    "        replay_memory.append((state,\n",
    "                              action,\n",
    "                              reward + 300 * (GAMMA * abs(new_state[1]) - abs(state[1])),\n",
    "                              new_state))\n",
    "        \n",
    "        if is_terminal:\n",
    "            state = env.reset()\n",
    "            is_terminal = False\n",
    "        else:\n",
    "            state = new_state\n",
    "        \n",
    "        # gradient descent step\n",
    "        if step > BATCH_SIZE:\n",
    "            optimize(list(zip(*replay_memory.get_minibatch(BATCH_SIZE))))\n",
    "        \n",
    "        if step % UPDATE_STEP == 0:\n",
    "            # exploitation\n",
    "            r = exploit(actor, render = True)\n",
    "            reward_history.append(r)\n",
    "            \n",
    "    return reward_history"
   ]
  },
  {
   "cell_type": "code",
   "execution_count": 9,
   "metadata": {},
   "outputs": [],
   "source": [
    "# define constants\n",
    "MAX_STEP = 100001\n",
    "UPDATE_STEP = 1000\n",
    "\n",
    "BATCH_SIZE = 128\n",
    "MEMORY_CAPACITY = 10000\n",
    "\n",
    "ACTOR_LR  = 1e-3\n",
    "CRITIC_LR = 1e-4\n",
    "\n",
    "GAMMA = 0.99\n",
    "TAU = 1e-2"
   ]
  },
  {
   "cell_type": "code",
   "execution_count": 10,
   "metadata": {},
   "outputs": [],
   "source": [
    "env = gym.make('MountainCarContinuous-v0')\n",
    "\n",
    "actor  = Actor(2, 1, 256)\n",
    "critic = Critic(2, 1, 256)\n",
    "\n",
    "def init_model_weights(layer):\n",
    "    if type(layer) == nn.Linear:\n",
    "        nn.init.xavier_normal_(layer.weight)\n",
    "\n",
    "actor.apply(init_model_weights)\n",
    "critic.apply(init_model_weights)\n",
    "\n",
    "target_actor  = copy.deepcopy(actor)\n",
    "target_critic = copy.deepcopy(critic)\n",
    "\n",
    "actor.to(device)\n",
    "critic.to(device)\n",
    "target_actor.to(device)\n",
    "target_critic.to(device)\n",
    "\n",
    "actor_optimizer  = optim.Adam(actor.parameters(), lr = ACTOR_LR)\n",
    "critic_optimizer = optim.Adam(critic.parameters(), lr = CRITIC_LR)"
   ]
  },
  {
   "cell_type": "code",
   "execution_count": 11,
   "metadata": {
    "scrolled": true
   },
   "outputs": [],
   "source": [
    "rewards = train(actor, target_actor, actor_optimizer,\n",
    "                critic, target_critic, critic_optimizer)"
   ]
  },
  {
   "cell_type": "code",
   "execution_count": 12,
   "metadata": {},
   "outputs": [
    {
     "data": {
      "text/plain": [
       "[<matplotlib.lines.Line2D at 0x7f6174051ba8>]"
      ]
     },
     "execution_count": 12,
     "metadata": {},
     "output_type": "execute_result"
    },
    {
     "data": {
      "image/png": "[encoded data removed]",
      "text/plain": [
       "<Figure size 432x288 with 1 Axes>"
      ]
     },
     "metadata": {
      "needs_background": "light"
     },
     "output_type": "display_data"
    }
   ],
   "source": [
    "plt.plot(rewards)"
   ]
  }
 ],
 "metadata": {
  "kernelspec": {
   "display_name": "Python 3",
   "language": "python",
   "name": "python3"
  },
  "language_info": {
   "codemirror_mode": {
    "name": "ipython",
    "version": 3
   },
   "file_extension": ".py",
   "mimetype": "text/x-python",
   "name": "python",
   "nbconvert_exporter": "python",
   "pygments_lexer": "ipython3",
   "version": "3.6.8"
  }
 },
 "nbformat": 4,
 "nbformat_minor": 2
}
